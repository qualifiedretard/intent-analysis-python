{
 "cells": [
  {
   "cell_type": "code",
   "execution_count": 1,
   "id": "f5569aee",
   "metadata": {},
   "outputs": [],
   "source": [
    "import requests\n",
    "import urllib\n",
    "import pandas as pd\n",
    "from requests_html import HTML\n",
    "from requests_html import HTMLSession\n",
    "from bs4 import BeautifulSoup"
   ]
  },
  {
   "cell_type": "code",
   "execution_count": 2,
   "id": "b7072a8f",
   "metadata": {},
   "outputs": [],
   "source": [
    "def get_source(url):\n",
    "    try:\n",
    "        session = HTMLSession()\n",
    "        response = session.get(url)\n",
    "        return response\n",
    "\n",
    "    except requests.exceptions.RequestException as e:\n",
    "        print(e)"
   ]
  },
  {
   "cell_type": "code",
   "execution_count": 3,
   "id": "7f83bc96",
   "metadata": {},
   "outputs": [],
   "source": [
    "def scrape_google(query):\n",
    "\n",
    "    query = urllib.parse.quote_plus(query)\n",
    "    response = get_source(\"https://www.google.co.uk/search?q=\" + query)\n",
    "\n",
    "    links = list(response.html.absolute_links)\n",
    "    google_domains = ('https://www.google.', \n",
    "                      'https://google.', \n",
    "                      'https://webcache.googleusercontent.', \n",
    "                      'http://webcache.googleusercontent.', \n",
    "                      'https://policies.google.',\n",
    "                      'https://support.google.',\n",
    "                      'https://maps.google.')\n",
    "\n",
    "    for url in links[:]:\n",
    "        if url.startswith(google_domains):\n",
    "            links.remove(url)\n",
    "\n",
    "    return links"
   ]
  },
  {
   "cell_type": "code",
   "execution_count": 4,
   "id": "2d5455c9",
   "metadata": {},
   "outputs": [
    {
     "name": "stdout",
     "output_type": "stream",
     "text": [
      "Best tuition Singapore\n",
      "['https://www.singsaver.com.sg/blog/best-tuition-centres-singapore#mindstretcher', 'https://honeykidsasia.com/top-tuition-centres-in-singapore/', 'https://www.singsaver.com.sg/blog/best-tuition-centres-singapore#mavistutorialcentre', 'https://go.geniebook.com/go-beyond-tuition-with-geniebook/#lp-pom-box-2159', 'https://www.thefunempire.com/tuition-centre-singapore/', 'https://smiletutor.sg/48-best-tuition-centres-in-singapore/', 'https://blog.moneysmart.sg/family/best-tuition-centres-singapore/', 'https://www.singsaver.com.sg/blog/best-tuition-centres-singapore#acephysics&math', 'https://singaporetuitionteachers.com/online-tuition/', 'https://www.jcu.edu.sg/events/oct-2022/admissions-day', 'https://mindspace.mindchamps.org/contact-us/', 'https://singaporetuitionteachers.com/tuition-rates/', 'https://generalpapertuition.com.sg/contact-us/', 'https://singaporetuitionteachers.com/', 'https://blog.moneysmart.sg/family/best-tuition-centres-singapore/#centres', 'https://www.theunboxed.co/', 'http://www.bestphysicstuition.com/', 'https://www.thebestsingapore.com/living/5-best-tuition-centres-in-singapore-with-island-wide-locations/', 'https://www.enplearningplace.com/', 'https://blog.moneysmart.sg/family/best-tuition-centres-singapore/#right', 'https://singaporetuitionteachers.com/contact-us-private-home-tuition/', 'https://singaporetuitionteachers.com/faqs-for-clients/', 'https://www.bestpoa.com/', 'https://generalpapertuition.com.sg/classes/', 'https://www.generalpapertuition.com.sg/', 'https://tuitionphysics.com/', 'https://www.singsaver.com.sg/blog/best-tuition-centres-singapore', 'https://finestservices.com.sg/tuition-centres/', 'https://morebetter.sg/tuition-centre-singapore/', 'https://www.singsaver.com.sg/blog/best-tuition-centres-singapore#thelearninglab', 'https://bestinsingapore.com/tuition-centres/', 'https://singaporetuitionteachers.com/ite-tuition/']\n"
     ]
    }
   ],
   "source": [
    "list_generated = scrape_google(input(\"\"))\n",
    "print(list_generated)"
   ]
  },
  {
   "cell_type": "code",
   "execution_count": 5,
   "id": "7d876e95",
   "metadata": {},
   "outputs": [],
   "source": [
    "url1 = list_generated[0]\n",
    "url2 = list_generated[1]\n",
    "url3 = list_generated[2]\n",
    "url4 = list_generated[3]\n",
    "url5 = list_generated[4]"
   ]
  },
  {
   "cell_type": "code",
   "execution_count": 6,
   "id": "dff7ec57",
   "metadata": {},
   "outputs": [],
   "source": [
    "def page_scan(url):\n",
    "    \n",
    "    reqs = requests.get(url)\n",
    "    soup = BeautifulSoup(reqs.text, 'lxml')\n",
    "    print(\"List of all the h1, h2, h3 :\")\n",
    "    for heading in soup.find_all([\"h1\", \"h2\", \"h3\"]):\n",
    "        print(heading.name + ' ' + heading.text.strip())\n"
   ]
  },
  {
   "cell_type": "code",
   "execution_count": 7,
   "id": "e933828c",
   "metadata": {},
   "outputs": [
    {
     "name": "stdout",
     "output_type": "stream",
     "text": [
      "List of all the h1, h2, h3 :\n",
      "h1 Best Tuition Centres In Singapore\n",
      "h2 Worried that your child might be falling behind his/her peers? Here’s a list of the top tuition centres in Singapore to boost your child’s academic scores.\n",
      "h2 18 Best Tuition Centres In Singapore\n",
      "h2 1. The Learning Lab\n",
      "h2 2. True Learning Centre\n",
      "h2 3. Mavis Tutorial Centre\n",
      "h2 4. Aspire Hub\n",
      "h2 5. Science Studio Learning Lab\n",
      "h2 6. The Physics Café\n",
      "h2 7. Berries World\n",
      "h2 8. Tien Hsia Language School\n",
      "h2 9. Ace Physics & Math\n",
      "h2 10. Smile Tutor\n",
      "h2 11. Mind Stretcher\n",
      "h2 12. Young Scholarz\n",
      "h2 13. Andrew Yap Education Centre\n",
      "h2 14. Gavin’s Tuition Centre\n",
      "h2 15. Math Science Guru\n",
      "h2 16. Stag Match Tuition Centre\n",
      "h2 17. Edufront Tuition Centre\n",
      "h2 18. Our Learning Loft\n",
      "h2 FAQs about enrolling for tuition in Singapore\n",
      "h3 #1 How to choose a good tuition centre?\n",
      "h3 #2 Are all tuition centres registered with MOE?\n",
      "h3 #3 Do I need to perform my own preliminary background check on a tuition centre’s credibility and standard?\n",
      "h2 Which is better? Tuition centre or private tuition?\n",
      "h3 Related articles\n",
      "h2 Sign up with SingSaver today\n",
      "h2 Sign up with SingSaver for exclusive benefits\n"
     ]
    }
   ],
   "source": [
    "scan1 = page_scan(url1)"
   ]
  },
  {
   "cell_type": "code",
   "execution_count": 8,
   "id": "65fc3162",
   "metadata": {},
   "outputs": [
    {
     "name": "stdout",
     "output_type": "stream",
     "text": [
      "List of all the h1, h2, h3 :\n",
      "h1 Sorry, you have been blocked\n",
      "h2 You are unable to access honeykidsasia.com\n",
      "h2 Why have I been blocked?\n",
      "h2 What can I do to resolve this?\n"
     ]
    }
   ],
   "source": [
    "scan2 = page_scan(url2)"
   ]
  },
  {
   "cell_type": "code",
   "execution_count": 9,
   "id": "4f851e17",
   "metadata": {},
   "outputs": [
    {
     "name": "stdout",
     "output_type": "stream",
     "text": [
      "List of all the h1, h2, h3 :\n",
      "h1 Best Tuition Centres In Singapore\n",
      "h2 Worried that your child might be falling behind his/her peers? Here’s a list of the top tuition centres in Singapore to boost your child’s academic scores.\n",
      "h2 18 Best Tuition Centres In Singapore\n",
      "h2 1. The Learning Lab\n",
      "h2 2. True Learning Centre\n",
      "h2 3. Mavis Tutorial Centre\n",
      "h2 4. Aspire Hub\n",
      "h2 5. Science Studio Learning Lab\n",
      "h2 6. The Physics Café\n",
      "h2 7. Berries World\n",
      "h2 8. Tien Hsia Language School\n",
      "h2 9. Ace Physics & Math\n",
      "h2 10. Smile Tutor\n",
      "h2 11. Mind Stretcher\n",
      "h2 12. Young Scholarz\n",
      "h2 13. Andrew Yap Education Centre\n",
      "h2 14. Gavin’s Tuition Centre\n",
      "h2 15. Math Science Guru\n",
      "h2 16. Stag Match Tuition Centre\n",
      "h2 17. Edufront Tuition Centre\n",
      "h2 18. Our Learning Loft\n",
      "h2 FAQs about enrolling for tuition in Singapore\n",
      "h3 #1 How to choose a good tuition centre?\n",
      "h3 #2 Are all tuition centres registered with MOE?\n",
      "h3 #3 Do I need to perform my own preliminary background check on a tuition centre’s credibility and standard?\n",
      "h2 Which is better? Tuition centre or private tuition?\n",
      "h3 Related articles\n",
      "h2 Sign up with SingSaver today\n",
      "h2 Sign up with SingSaver for exclusive benefits\n"
     ]
    }
   ],
   "source": [
    "scan3 = page_scan(url3)"
   ]
  },
  {
   "cell_type": "code",
   "execution_count": 10,
   "id": "75ab48fe",
   "metadata": {},
   "outputs": [
    {
     "name": "stdout",
     "output_type": "stream",
     "text": [
      "List of all the h1, h2, h3 :\n"
     ]
    }
   ],
   "source": [
    "scan4 = page_scan(url4)"
   ]
  },
  {
   "cell_type": "code",
   "execution_count": 11,
   "id": "b0953bba",
   "metadata": {},
   "outputs": [
    {
     "name": "stdout",
     "output_type": "stream",
     "text": [
      "List of all the h1, h2, h3 :\n",
      "h1 57 Best Tuition Centre Singapore Options For All Levels [2022]\n",
      "h2 Tuition Centre Singapore\n",
      "h3 1. Our Learning Loft\n",
      "h3 2. AGrader Learning Centre\n",
      "h3 3. The Learning Board\n",
      "h3 4. Aspire Thinking Learning Centre\n",
      "h3 5. Jai Learning Hub\n",
      "h3 6. Jφss Sticks Tuition Centre\n",
      "h3 7. Miracle Math Tuition Centre\n",
      "h3 8. Math Note\n",
      "h3 9. Yes Tuition Agency\n",
      "h3 10. Best Physics Tuition\n",
      "h3 11. EduFirst\n",
      "h3 12. EduZ Tuition\n",
      "h3 13. Ignite Tuition Centre\n",
      "h3 14. AO Studies Tuition Centre\n",
      "h3 15. Tutor Suzanne\n",
      "h3 16. Irwin's Study\n",
      "h3 17. Humanities Hub\n",
      "h3 18. MyMasterclass\n",
      "h3 19. Happy Tutors Learning Centre\n",
      "h3 20. WR!TERS @ WORK\n",
      "h3 21. Ingel Soong\n",
      "h3 22. Debbie’s Learning Cove\n",
      "h3 23. Seb Academy\n",
      "h3 24. Apex Math Tuition\n",
      "h3 25. Brain Matter\n",
      "h3 26. InGenius Library\n",
      "h3 27. Edu Reach\n",
      "h3 28. Stag Match Tuition Centre\n",
      "h3 29. The Economics Tutor by Kevin Hong\n",
      "h3 30. eduKate\n",
      "h3 31. Geno House Tuition & Enrichment Centre\n",
      "h3 32. Genius Farm\n",
      "h3 33. MaxiMind Eduhub\n",
      "h3 34. Number Skill\n",
      "h3 35. Joyous Learning\n",
      "h3 36. Miracle Learning Centre\n",
      "h3 37. JAYCEE TUITION CENTRE\n",
      "h3 38. iMatter Learning Centre\n",
      "h3 39. Stepping Stones Study Centre\n",
      "h3 40. Making Sense\n",
      "h3 41. Mavis Tutorial Centre\n",
      "h3 42. Young Scholarz\n",
      "h3 43. Aspire Hub\n",
      "h3 44. All A's Tuition\n",
      "h3 45. The Learning Lab\n",
      "h3 46. Donason Deen Education Centre\n",
      "h3 47. SmartLab Education Centre\n",
      "h3 48. Simply Education\n",
      "h3 49. KidiBliss Pte Ltd\n",
      "h3 50. The Physics Cafe\n",
      "h3 51. Seng Kang A* Tuition\n",
      "h3 52. Ace Physics and Maths Tuition\n",
      "h3 53. School Of Language and Communication\n",
      "h3 54. True Learning Centre\n",
      "h3 55. Nanyang Learning Private Limited\n",
      "h3 56. iMath Solutions\n",
      "h3 57. Topperz@work Education Centre\n",
      "h2 Tuition Centre Singapore\n",
      "h2 Frequently Asked Questions\n",
      "h3 What Are Tuition Centres In Singapore?\n",
      "h3 What Are The Types Of Tuition Centres In Singapore?\n",
      "h3 Are The Tutors In Tuition Centres In Singapore Qualified?\n",
      "h3 What Are The Best Tuition Centres?\n",
      "h3 Contact Us Today!\n",
      "h3 Popular Activities\n",
      "h3 Top Blog Posts\n",
      "h3 Ready For These Activities?\n"
     ]
    }
   ],
   "source": [
    "scan5 = page_scan(url5)"
   ]
  },
  {
   "cell_type": "code",
   "execution_count": null,
   "id": "eec2364f",
   "metadata": {},
   "outputs": [],
   "source": []
  }
 ],
 "metadata": {
  "kernelspec": {
   "display_name": "Python 3 (ipykernel)",
   "language": "python",
   "name": "python3"
  },
  "language_info": {
   "codemirror_mode": {
    "name": "ipython",
    "version": 3
   },
   "file_extension": ".py",
   "mimetype": "text/x-python",
   "name": "python",
   "nbconvert_exporter": "python",
   "pygments_lexer": "ipython3",
   "version": "3.9.7"
  }
 },
 "nbformat": 4,
 "nbformat_minor": 5
}
